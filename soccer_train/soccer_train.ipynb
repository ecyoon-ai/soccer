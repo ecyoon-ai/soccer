{
 "cells": [
  {
   "cell_type": "code",
   "execution_count": null,
   "metadata": {
    "colab": {
     "base_uri": "https://localhost:8080/"
    },
    "executionInfo": {
     "elapsed": 72407,
     "status": "ok",
     "timestamp": 1743484267817,
     "user": {
      "displayName": "이힘찬",
      "userId": "10220646054598307609"
     },
     "user_tz": -540
    },
    "id": "bFr7QxyJHXmc",
    "outputId": "0f702a03-3afa-4956-b1ce-35b9ac3f5e41"
   },
   "outputs": [],
   "source": [
    "# Install Ultralytics, the library for YOLO models\n",
    "!pip install ultralytics"
   ]
  },
  {
   "cell_type": "code",
   "execution_count": null,
   "metadata": {
    "id": "Qoodq_Csn9ES"
   },
   "outputs": [],
   "source": [
    "! kill -9 $(ps -A | grep python | awk '{print $1}')"
   ]
  },
  {
   "cell_type": "code",
   "execution_count": null,
   "metadata": {
    "colab": {
     "base_uri": "https://localhost:8080/"
    },
    "executionInfo": {
     "elapsed": 3000056,
     "status": "ok",
     "timestamp": 1743487283327,
     "user": {
      "displayName": "이힘찬",
      "userId": "10220646054598307609"
     },
     "user_tz": -540
    },
    "id": "EBipBeQHHhCh",
    "outputId": "2f3064d6-c11c-4ed2-843e-f25326392c25"
   },
   "outputs": [],
   "source": [
    "from ultralytics import YOLO  # Import the YOLO class from the ultralytics library\n",
    "\n",
    "# Load a pre-trained YOLO model from a specific file path\n",
    "model = YOLO(\"/content/drive/MyDrive/Colab Notebooks/soccer_prj/soccer_train/yolo11x.pt\")\n",
    "\n",
    "# Start training the YOLO model with the given parameters\n",
    "model.train(\n",
    "    data=\"/content/drive/MyDrive/Colab Notebooks/soccer_prj/soccer_train/dataset/data.yaml\",  # Path to dataset configuration (labels, images, classes)\n",
    "    epochs=50,\n",
    "    patience=50,         # Early stopping: stop if there is no improvement for this value\n",
    "    imgsz=640,           # Image size used for training\n",
    "    batch=16,            # Number of images processed at once (batch size)\n",
    "    lr0=0.01,            # Initial learning rate (how fast the model learns at first)\n",
    "    lrf=0.0001,          # Final learning rate ratio (minimum rate at the end of training)\n",
    "    cos_lr=True,         # Use cosine learning rate schedule for smoother changes\n",
    "    warmup_epochs=3,     # Number of warmup epochs to slowly increase the learning rate at the start\n",
    "    optimizer=\"RAdam\",\n",
    "    project=\"/content/drive/MyDrive/Colab Notebooks/soccer_prj/soccer_train\",  # Directory to save results\n",
    "    name=\"soccer_ball\"  # Name for this training run (creates a folder with this name for results)\n",
    ")"
   ]
  },
  {
   "cell_type": "code",
   "execution_count": null,
   "metadata": {
    "id": "Y4lcYf60JLRW"
   },
   "outputs": [],
   "source": []
  }
 ],
 "metadata": {
  "accelerator": "GPU",
  "colab": {
   "authorship_tag": "ABX9TyPjkPfojqlbHpI2dBFHPGKM",
   "gpuType": "T4",
   "machine_shape": "hm",
   "mount_file_id": "1ztP63YQVBSN1UUfQr5b_k2O24VbI5GSm",
   "provenance": []
  },
  "kernelspec": {
   "display_name": "Python 3 (ipykernel)",
   "language": "python",
   "name": "python3"
  },
  "language_info": {
   "codemirror_mode": {
    "name": "ipython",
    "version": 3
   },
   "file_extension": ".py",
   "mimetype": "text/x-python",
   "name": "python",
   "nbconvert_exporter": "python",
   "pygments_lexer": "ipython3",
   "version": "3.13.5"
  }
 },
 "nbformat": 4,
 "nbformat_minor": 4
}
